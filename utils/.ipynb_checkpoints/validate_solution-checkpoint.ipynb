{
 "cells": [
  {
   "cell_type": "markdown",
   "metadata": {
    "collapsed": true
   },
   "source": [
    "# Individual solution validation"
   ]
  },
  {
   "cell_type": "code",
   "execution_count": null,
   "metadata": {},
   "outputs": [],
   "source": []
  },
  {
   "cell_type": "markdown",
   "metadata": {},
   "source": [
    "_Note: For full compatibility, use Python >= 3.6 to run this notebook._"
   ]
  },
  {
   "cell_type": "markdown",
   "metadata": {},
   "source": [
    "This notebook explains how you can evaluate an individual solution to one of the [problem instances](problem_instances) without creating a whole submission.\n",
    "\n",
    "This way, you can quickly and easily check if the solutions you calculated conform the the [business rules](documentation/business_rules.md) and you will also get a score for each solution, telling you how good it, as it will also calculate the [objective value](documentation/business_rules.md#objective-function) of this specific solution.\n",
    "\n",
    "This makes frequent testing and tuning of your algorithm much easier than using the submission process.\n",
    "\n",
    "__However: Please observe a limit of at most one (1) validation per minute in order not to overwhelm the service__"
   ]
  },
  {
   "cell_type": "markdown",
   "metadata": {},
   "source": [
    "## Examples"
   ]
  },
  {
   "cell_type": "markdown",
   "metadata": {},
   "source": [
    "_Note: The following code is also collected in_ [this](utils/validate_solution.py) _script_"
   ]
  },
  {
   "cell_type": "markdown",
   "metadata": {},
   "source": [
    "Setup config:"
   ]
  },
  {
   "cell_type": "code",
   "execution_count": 1,
   "metadata": {},
   "outputs": [],
   "source": [
    "import requests\n",
    "import translate\n",
    "import json\n",
    "from io import StringIO\n",
    "import collections.abc\n",
    "import os,sys,inspect\n",
    "\n",
    "AUTH = ('MartyMcFly', 'Uranium-235')\n",
    "SCENARIO_UPLOAD_ENDPOINT = \"https://fluxer.app.sbb.ch/backend/crowdai-validator/uploadVerkehrsplanFile\"\n",
    "SOLUTION_VALIDATION_ENDPOINT = \"https://fluxer.app.sbb.ch/backend/crowdai-validator/validateFile\""
   ]
  },
  {
   "cell_type": "markdown",
   "metadata": {},
   "source": [
    "Specify the files to use. Validating a solution only makes sense when also specifying which problem instance the solution is intended for. So we specify both the problem instance and the solution. Both must be available as a JSON file."
   ]
  },
  {
   "cell_type": "code",
   "execution_count": 2,
   "metadata": {},
   "outputs": [],
   "source": [
    "currentdir = os.path.dirname(os.path.abspath(inspect.getfile(inspect.currentframe())))\n",
    "parentdir = os.path.dirname(currentdir)\n",
    "\n",
    "scenario = os.path.join(parentdir,'sample_files',\"sample_scenario.json\")\n",
    "solution = os.path.join(parentdir,'sample_files',\"sample_scenario_solution.json\")\n",
    "\n",
    "with open(scenario) as fp:\n",
    "    scenario_content = json.load(fp)"
   ]
  },
  {
   "cell_type": "markdown",
   "metadata": {},
   "source": [
    "We first read the file and send it to the translation. Translation translates the model from English to German, so our Solution Validator can understand it."
   ]
  },
  {
   "cell_type": "code",
   "execution_count": 3,
   "metadata": {},
   "outputs": [],
   "source": [
    "scenario_content = \"\"\n",
    "with open(scenario) as fp:\n",
    "    scenario_content = json.load(fp)\n",
    "\n",
    "scenario_content = translate.translate(scenario_content, translate.translate_to_ger)"
   ]
  },
  {
   "cell_type": "markdown",
   "metadata": {},
   "source": [
    "We can now upload the solution to the service"
   ]
  },
  {
   "cell_type": "code",
   "execution_count": 4,
   "metadata": {},
   "outputs": [
    {
     "name": "stdout",
     "output_type": "stream",
     "text": [
      "upload finished with status <Response [200]>\n"
     ]
    }
   ],
   "source": [
    "scenario_file = {\"verkehrsplan\": StringIO(json.dumps(scenario_content))}\n",
    "upload_response = requests.post(SCENARIO_UPLOAD_ENDPOINT, files=scenario_file, auth=AUTH)\n",
    "print(f\"upload finished with status {upload_response}\")"
   ]
  },
  {
   "cell_type": "markdown",
   "metadata": {},
   "source": [
    "We now read the solution file and translate it..."
   ]
  },
  {
   "cell_type": "code",
   "execution_count": 5,
   "metadata": {},
   "outputs": [],
   "source": [
    "solution_content = \"\"\n",
    "with open(solution) as fp:\n",
    "    solution_content = json.load(fp)\n",
    "\n",
    "solution_content = translate.translate(solution_content, translate.translate_to_ger)"
   ]
  },
  {
   "cell_type": "markdown",
   "metadata": {},
   "source": [
    "... in order to upload and validate the solution. The response from the validation is then translated again back into English"
   ]
  },
  {
   "cell_type": "code",
   "execution_count": 6,
   "metadata": {},
   "outputs": [
    {
     "name": "stdout",
     "output_type": "stream",
     "text": [
      "validation finished with status 200\n"
     ]
    }
   ],
   "source": [
    "solution_file = {\"loesung\": StringIO(json.dumps(solution_content))}\n",
    "validation_response = requests.post(SOLUTION_VALIDATION_ENDPOINT, files=solution_file, auth=AUTH)\n",
    "print(f\"validation finished with status {validation_response.status_code}\")\n",
    "\n",
    "response = validation_response.json()\n",
    "validation_result = translate.translate(response, translate.translate_to_eng)\n",
    "validation_result = translate.translate_message_word_for_word(validation_result)"
   ]
  },
  {
   "cell_type": "markdown",
   "metadata": {},
   "source": [
    "Inspect the response. The rule violations are collected in the attribute `business_rules_violations`. They are grouped into `warnings` and `errors`\n",
    "\n",
    "* `warnings` mean your solution violates some non-essential business rules. A common such case is if an event is scheduled too late (i.e. a delay). Solutions with warnings but no errors are accepted, but they may receive an imperfect score.\n",
    "* `errors` means the solution violates an essential business rule. Solutions with errors are not accepted and scored just like a missing solution.\n",
    "\n",
    "_Note:_ Some of the text might still be in German. Please use Google Translate in order to get some understanding."
   ]
  },
  {
   "cell_type": "code",
   "execution_count": 7,
   "metadata": {},
   "outputs": [
    {
     "name": "stdout",
     "output_type": "stream",
     "text": [
      "\n",
      "There are 0 warnings and 0 errors\n",
      "\n"
     ]
    }
   ],
   "source": [
    "    warnings = [x for x in validation_result[\"business_rules_violations\"] if x[\"severity\"] == \"warning\"]\n",
    "    errors = [x for x in validation_result[\"business_rules_violations\"] if x[\"severity\"] == \"error\"]\n",
    "\n",
    "    print()\n",
    "    print(f\"There are {len(warnings)} warnings and {len(errors)} errors\" + \"\\n\")\n",
    "\n",
    "    if len(errors) > 0:\n",
    "        print(f\"the solution has {len(errors)} errors. It will not be accepted as a feasible solution. \"\n",
    "            f\"See the error messages for details.\")\n",
    "    \n",
    "        print()\n",
    "        print(\"Errors:\")\n",
    "        for x in errors:\n",
    "            print(\"- \"+x[\"message\"])\n",
    "            # print(x[\"message_original\"])\n",
    "        print()\n",
    "        print(\"Warnings:\")\n",
    "        for x in warnings:\n",
    "            print(\"- \"+x[\"message\"])\n",
    "        \n",
    "\n",
    "    elif len(warnings) > 0:\n",
    "        print()\n",
    "        print(f\"the solution has {len(warnings)} warnings. It will be accepted as a feasible solution. \")\n",
    "        if validation_result['objective_value'] > 0.0:\n",
    "            print(f\"However, it will incur {validation_result['objective_value']} penalty points in the grader.\")\n",
    "        \n",
    "        print()\n",
    "        print(\"Warnings:\")\n",
    "        for x in warnings:\n",
    "            print(\"- \"+x[\"message\"])\n",
    "            # print(x[\"message_original\"])\n"
   ]
  },
  {
   "cell_type": "markdown",
   "metadata": {},
   "source": [
    "### Example: Warning \"wrong Hash in solution\""
   ]
  },
  {
   "cell_type": "markdown",
   "metadata": {},
   "source": [
    "The following solution has a wrong solution hash. This causes a `warning`, but this particular warning is irrelevant. Also, the solution is not penalized because of this. The `objective_value` of the solution is zero, which is perfect.\n",
    "\n",
    "__you may safely ignore all solution-hash warnings in your solutions__"
   ]
  },
  {
   "cell_type": "code",
   "execution_count": 8,
   "metadata": {},
   "outputs": [
    {
     "name": "stdout",
     "output_type": "stream",
     "text": [
      "validation finished with status 200 \n",
      "\n",
      "\n",
      "There are 1 warnings and 0 errors\n",
      "\n",
      "\n",
      "the solution has 1 warnings. It will be accepted as a feasible solution. \n",
      "\n",
      "Warnings:\n",
      "- Solution with VP-Label \"SBB_challenge_sample_scenario_with_routing_alternatives\" and problem_instance_hash \"-1254734547\" has a wrong Hash! Hash: 161193081, expected: 1538680897\n"
     ]
    }
   ],
   "source": [
    "solution = os.path.join(parentdir,'sample_files',\"sample_scenario_solution_warningHash.json\")\n",
    "\n",
    "with open(solution) as fp:\n",
    "    solution_content = json.load(fp)\n",
    "\n",
    "solution_content = translate.translate(solution_content, translate.translate_to_ger)\n",
    "solution_file = {\"loesung\": StringIO(json.dumps(solution_content))}\n",
    "validation_response = requests.post(SOLUTION_VALIDATION_ENDPOINT, files=solution_file, auth=AUTH)\n",
    "print(f\"validation finished with status {validation_response.status_code} \\n\")\n",
    "\n",
    "response = validation_response.json()\n",
    "validation_result = translate.translate(response, translate.translate_to_eng)\n",
    "validation_result = translate.translate_message_word_for_word(validation_result)\n",
    "\n",
    "warnings = [x for x in validation_result[\"business_rules_violations\"] if x[\"severity\"] == \"warning\"]\n",
    "errors = [x for x in validation_result['business_rules_violations'] if x['severity'] == 'error']\n",
    "\n",
    "print()\n",
    "print(f\"There are {len(warnings)} warnings and {len(errors)} errors\" + \"\\n\")\n",
    "\n",
    "if len(errors) > 0:\n",
    "    print(f\"the solution has {len(errors)} errors. It will not be accepted as a feasible solution. \"\n",
    "        f\"See the error messages for details.\")\n",
    "\n",
    "    print()\n",
    "    print(\"Errors:\")\n",
    "    for x in errors:\n",
    "        print(\"- \"+x[\"message\"])\n",
    "    print()\n",
    "    print(\"Warnings:\")\n",
    "    for x in warnings:\n",
    "        print(\"- \"+x[\"message\"])\n",
    "\n",
    "\n",
    "elif len(warnings) > 0:\n",
    "    print()\n",
    "    print(f\"the solution has {len(warnings)} warnings. It will be accepted as a feasible solution. \")\n",
    "    if validation_result['objective_value'] > 0.0:\n",
    "        print(f\"However, it will incur {validation_result['objective_value']} penalty points in the grader.\")\n",
    "\n",
    "    print()\n",
    "    print(\"Warnings:\")\n",
    "    for x in warnings:\n",
    "        print(\"- \"+x[\"message\"])"
   ]
  },
  {
   "cell_type": "markdown",
   "metadata": {},
   "source": [
    "### Example: Warning \"delayed arrival\"\n",
    "The following solution again has a wrong solution hash, but again we ignore it.\n",
    "\n",
    "__More importantly:__ Train 111 should arrive no later than 8:50:00 according to the [problem instance](sample_files/sample_scenario.json), but solution schedules it only at 8:51:08, which is 1.13 minutes too late. For this reason the solution is penalized with 1.13 `minutes_of_delay`, which is also its total `objective_value` (you can read up how the objective function is calculated [here](documentation/business_rules.md#objective-function))."
   ]
  },
  {
   "cell_type": "code",
   "execution_count": 9,
   "metadata": {},
   "outputs": [
    {
     "name": "stdout",
     "output_type": "stream",
     "text": [
      "validation finished with status 200 \n",
      "\n",
      "\n",
      "There are 2 warnings and 0 errors\n",
      "\n",
      "\n",
      "the solution has 2 warnings. It will be accepted as a feasible solution. \n",
      "However, it will incur 1.1333333 penalty points in the grader.\n",
      "\n",
      "Warnings:\n",
      "- Solution with VP-Label \"SBB_challenge_sample_scenario_with_routing_alternatives\" and problem_instance_hash \"-1254734547\" has a wrong Hash! Hash: 1611930817, expected: 2080299070\n",
      "- Exit time 08:51:08 after exit_latest 08:50 for Train run sections with FAB-Id \"111#14\" and Section Marker \"C\" in fA \"111\"\n"
     ]
    }
   ],
   "source": [
    "solution = os.path.join(parentdir,'sample_files',\"sample_scenario_solution_delayed_arrival.json\")\n",
    "\n",
    "with open(solution) as fp:\n",
    "    solution_content = json.load(fp)\n",
    "\n",
    "solution_content = translate.translate(solution_content, translate.translate_to_ger)\n",
    "solution_file = {\"loesung\": StringIO(json.dumps(solution_content))}\n",
    "validation_response = requests.post(SOLUTION_VALIDATION_ENDPOINT, files=solution_file, auth=AUTH)\n",
    "print(f\"validation finished with status {validation_response.status_code} \\n\")\n",
    "\n",
    "response = validation_response.json()\n",
    "validation_result = translate.translate(response, translate.translate_to_eng)\n",
    "validation_result = translate.translate_message_word_for_word(validation_result)\n",
    "\n",
    "warnings = [x for x in validation_result[\"business_rules_violations\"] if x[\"severity\"] == \"warning\"]\n",
    "errors = [x for x in validation_result['business_rules_violations'] if x['severity'] == 'error']\n",
    "\n",
    "print()\n",
    "print(f\"There are {len(warnings)} warnings and {len(errors)} errors\" + \"\\n\")\n",
    "\n",
    "if len(errors) > 0:\n",
    "    print(f\"the solution has {len(errors)} errors. It will not be accepted as a feasible solution. \"\n",
    "        f\"See the error messages for details.\")\n",
    "\n",
    "    print()\n",
    "    print(\"Errors:\")\n",
    "    for x in errors:\n",
    "        print(\"- \"+x[\"message\"])\n",
    "    print()\n",
    "    print(\"Warnings:\")\n",
    "    for x in warnings:\n",
    "        print(\"- \"+x[\"message\"])\n",
    "\n",
    "\n",
    "elif len(warnings) > 0:\n",
    "    print()\n",
    "    print(f\"the solution has {len(warnings)} warnings. It will be accepted as a feasible solution. \")\n",
    "    if validation_result['objective_value'] > 0.0:\n",
    "        print(f\"However, it will incur {validation_result['objective_value']} penalty points in the grader.\")\n",
    "\n",
    "    print()\n",
    "    print(\"Warnings:\")\n",
    "    for x in warnings:\n",
    "        print(\"- \"+x[\"message\"])\n"
   ]
  },
  {
   "cell_type": "markdown",
   "metadata": {},
   "source": [
    "### Example: Errors \"early departure\" and \"resource occupation conflict\""
   ]
  },
  {
   "cell_type": "markdown",
   "metadata": {},
   "source": [
    "This solution has actual _errors_. It will _not_ be accepted as a feasible solution by the grader. There are three errors:\n",
    "* The service intentions 111 and 113 occupy both occupy resource 'AB' at the same time, namely\n",
    " - 111 on its route section with sequence number 3 (route section id '111#3') from 07:50:00 to 08:20:53\n",
    " - 113 on its route section number 1 from 07:50:00 to 07:50:53\n",
    " \n",
    "* The same service intentions also conflict each other on route sections 111#3 and 113#4. This is listed as a separate conflict\n",
    "\n",
    "* Service intention 111 enters route section 111#3 (its first route section) at 07:50:00. This is earlier than the `earliest entry` of 08:20:00 specified in the service intention."
   ]
  },
  {
   "cell_type": "code",
   "execution_count": 10,
   "metadata": {},
   "outputs": [
    {
     "name": "stdout",
     "output_type": "stream",
     "text": [
      "validation finished with status 200 \n",
      "\n",
      "\n",
      "There are 1 warnings and 3 errors\n",
      "\n",
      "the solution has 3 errors. It will not be accepted as a feasible solution. See the error messages for details.\n",
      "\n",
      "Errors:\n",
      "- Occupancy conflict (Blocking resource) Release time[s] 30, Resource: \"AB\", fAs: \"111\" / \"113\", FABs: \"111#3\" / \"113#1\", Times entry-exit: 07:50-08:20:53 / 07:50-07:50:53\n",
      "- Occupancy conflict (Blocking resource) Release time[s] 30, Resource: \"AB\", fAs: \"111\" / \"113\", FABs: \"111#3\" / \"113#4\", Times entry-exit: 07:50-08:20:53 / 07:50:53-07:51:25\n",
      "- Entry time 07:50 before entry_earliest 08:20 for Train run sections with FAB-Id \"111#3\" and Section Marker \"A\" in fA \"111\"\n",
      "\n",
      "Warnings:\n",
      "- Solution with VP-Label \"SBB_challenge_sample_scenario_with_routing_alternatives\" and problem_instance_hash \"-1254734547\" has a wrong Hash! Hash: 1611930817, expected: 460224476\n"
     ]
    }
   ],
   "source": [
    "solution = os.path.join(parentdir,'sample_files',\"sample_scenario_solution_early_entry.json\")\n",
    "\n",
    "with open(solution) as fp:\n",
    "    solution_content = json.load(fp)\n",
    "\n",
    "solution_content = translate.translate(solution_content, translate.translate_to_ger)\n",
    "solution_file = {\"loesung\": StringIO(json.dumps(solution_content))}\n",
    "validation_response = requests.post(SOLUTION_VALIDATION_ENDPOINT, files=solution_file, auth=AUTH)\n",
    "print(f\"validation finished with status {validation_response.status_code} \\n\")\n",
    "\n",
    "response = validation_response.json()\n",
    "validation_result = translate.translate(response, translate.translate_to_eng)\n",
    "validation_result = translate.translate_message_word_for_word(validation_result)\n",
    "\n",
    "warnings = [x for x in validation_result[\"business_rules_violations\"] if x[\"severity\"] == \"warning\"]\n",
    "errors = [x for x in validation_result['business_rules_violations'] if x['severity'] == 'error']\n",
    "\n",
    "print()\n",
    "print(f\"There are {len(warnings)} warnings and {len(errors)} errors\" + \"\\n\")\n",
    "\n",
    "if len(errors) > 0:\n",
    "    print(f\"the solution has {len(errors)} errors. It will not be accepted as a feasible solution. \"\n",
    "        f\"See the error messages for details.\")\n",
    "\n",
    "    print()\n",
    "    print(\"Errors:\")\n",
    "    for x in errors:\n",
    "        print(\"- \"+x[\"message\"])\n",
    "    print()\n",
    "    print(\"Warnings:\")\n",
    "    for x in warnings:\n",
    "        print(\"- \"+x[\"message\"])\n",
    "\n",
    "\n",
    "elif len(warnings) > 0:\n",
    "    print()\n",
    "    print(f\"the solution has {len(warnings)} warnings. It will be accepted as a feasible solution. \")\n",
    "    if validation_result['objective_value'] > 0.0:\n",
    "        print(f\"However, it will incur {validation_result['objective_value']} penalty points in the grader.\")\n",
    "\n",
    "    print()\n",
    "    print(\"Warnings:\")\n",
    "    for x in warnings:\n",
    "        print(\"- \"+x[\"message\"])"
   ]
  }
 ],
 "metadata": {
  "kernelspec": {
   "display_name": "Python 3",
   "language": "python",
   "name": "python3"
  },
  "language_info": {
   "codemirror_mode": {
    "name": "ipython",
    "version": 3
   },
   "file_extension": ".py",
   "mimetype": "text/x-python",
   "name": "python",
   "nbconvert_exporter": "python",
   "pygments_lexer": "ipython3",
   "version": "3.6.5"
  }
 },
 "nbformat": 4,
 "nbformat_minor": 1
}
